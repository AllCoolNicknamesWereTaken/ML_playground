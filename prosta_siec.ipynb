{
  "nbformat": 4,
  "nbformat_minor": 0,
  "metadata": {
    "colab": {
      "name": "prosta_siec",
      "provenance": [],
      "authorship_tag": "ABX9TyNL2liWO7842IPE704K8epz",
      "include_colab_link": true
    },
    "kernelspec": {
      "name": "python3",
      "display_name": "Python 3"
    }
  },
  "cells": [
    {
      "cell_type": "markdown",
      "metadata": {
        "id": "view-in-github",
        "colab_type": "text"
      },
      "source": [
        "<a href=\"https://colab.research.google.com/github/AllCoolNicknamesWereTaken/ML_playground/blob/master/prosta_siec.ipynb\" target=\"_parent\"><img src=\"https://colab.research.google.com/assets/colab-badge.svg\" alt=\"Open In Colab\"/></a>"
      ]
    },
    {
      "cell_type": "code",
      "metadata": {
        "id": "XeNqmodk3rIU",
        "colab_type": "code",
        "colab": {
          "base_uri": "https://localhost:8080/",
          "height": 36
        },
        "outputId": "81b8382e-0244-4bda-9f8b-4508b170d445"
      },
      "source": [
        "import tensorflow as tf\n",
        "import numpy as np\n",
        "import pandas as pd\n",
        "import plotly.graph_objects as go\n",
        "tf.__version__"
      ],
      "execution_count": 28,
      "outputs": [
        {
          "output_type": "execute_result",
          "data": {
            "text/plain": [
              "'2.2.0-rc3'"
            ]
          },
          "metadata": {
            "tags": []
          },
          "execution_count": 28
        }
      ]
    },
    {
      "cell_type": "code",
      "metadata": {
        "id": "fnIKkGlZ3vhc",
        "colab_type": "code",
        "colab": {}
      },
      "source": [
        "np.random.seed(34)\n",
        "X = np.array([1.4, 0.8])\n",
        "y = np.array([20])"
      ],
      "execution_count": 0,
      "outputs": []
    },
    {
      "cell_type": "code",
      "metadata": {
        "id": "5bvJ-1yH35Zi",
        "colab_type": "code",
        "colab": {
          "base_uri": "https://localhost:8080/",
          "height": 36
        },
        "outputId": "7b4507a8-fd2b-4ad7-d516-40f810c4d60c"
      },
      "source": [
        "def initialize_param(n_n, n_x, n_y):\n",
        "  W1 = np.random.rand(n_n, n_x)\n",
        "  W2 = np.random.rand(n_n, n_y)\n",
        "  return W1, W2\n",
        "print('cos')"
      ],
      "execution_count": 30,
      "outputs": [
        {
          "output_type": "stream",
          "text": [
            "cos\n"
          ],
          "name": "stdout"
        }
      ]
    },
    {
      "cell_type": "code",
      "metadata": {
        "id": "sEQBTnHrN_EM",
        "colab_type": "code",
        "colab": {}
      },
      "source": [
        "def forward_propagation(W1, W2, X):\n",
        "  H1 = np.dot(X, W1)\n",
        "  y_forecast = np.dot(H1, W2)\n",
        "  return H1, y_forecast"
      ],
      "execution_count": 0,
      "outputs": []
    },
    {
      "cell_type": "code",
      "metadata": {
        "id": "JWzHcxoYP97B",
        "colab_type": "code",
        "colab": {}
      },
      "source": [
        "def predict(W1, W2, X):\n",
        "  _, y_pred = forward_propagation(W1, W2, X)\n",
        "  return y_pred[0]\n"
      ],
      "execution_count": 0,
      "outputs": []
    },
    {
      "cell_type": "code",
      "metadata": {
        "id": "6K3w1sU_Qdop",
        "colab_type": "code",
        "colab": {}
      },
      "source": [
        "def calculate_error(y_pred, y_true):\n",
        "  return y_pred - y_true\n"
      ],
      "execution_count": 0,
      "outputs": []
    },
    {
      "cell_type": "code",
      "metadata": {
        "id": "h20NgA6oRI6-",
        "colab_type": "code",
        "colab": {}
      },
      "source": [
        "def backpropagation (X, W1, W2, learning_rate, iters=1000, precision= 0.00001):\n",
        "  H1, y_pred = forward_propagation(W1, W2, X)\n",
        "  train_loss = []\n",
        "  \n",
        "  for i in range(iters):\n",
        "    error = calculate_error(y_pred, y[0])\n",
        "    W2 = W2 - learning_rate * error * H1.T\n",
        "    W1 = W1 - learning_rate * error * np.dot(X.T, W2.T)\n",
        "    y_pred = predict(W1, W2, X)\n",
        "    print(f'iter:{i} prediction: {y_pred}, error: {abs(calculate_error(y_pred, y[0]))}')\n",
        "    train_loss.append(abs(calculate_error(y_pred, y[0])))\n",
        "\n",
        "    if abs(error) < precision:\n",
        "      break\n",
        "  return W1, W2, train_loss "
      ],
      "execution_count": 0,
      "outputs": []
    },
    {
      "cell_type": "code",
      "metadata": {
        "id": "azHY2s4kNvuJ",
        "colab_type": "code",
        "colab": {}
      },
      "source": [
        "def build_model():\n",
        "  W1, W2 = initialize_param(2, 2, 1)\n",
        "  W1, W2, train_loss = backpropagation (X, W1, W2, 0.01)\n",
        "\n",
        "  model = {'W1': W1 , 'W2': W2, 'train_loss': train_loss}\n",
        "  return model\n"
      ],
      "execution_count": 0,
      "outputs": []
    },
    {
      "cell_type": "code",
      "metadata": {
        "id": "RGNd587AQuuW",
        "colab_type": "code",
        "colab": {
          "base_uri": "https://localhost:8080/",
          "height": 501
        },
        "outputId": "bc7be0ee-e9f3-4ff7-ad02-ae90aedb3d0f"
      },
      "source": [
        "model =  build_model()"
      ],
      "execution_count": 44,
      "outputs": [
        {
          "output_type": "stream",
          "text": [
            "iter:0 prediction: 4.433336336853188, error: 15.566663663146812\n",
            "iter:1 prediction: 8.013978348002164, error: 11.986021651997836\n",
            "iter:2 prediction: 11.790444081126235, error: 8.209555918873765\n",
            "iter:3 prediction: 14.957239543750728, error: 5.0427604562492725\n",
            "iter:4 prediction: 17.15296578886867, error: 2.84703421113133\n",
            "iter:5 prediction: 18.479868989702045, error: 1.5201310102979555\n",
            "iter:6 prediction: 19.214592001264954, error: 0.785407998735046\n",
            "iter:7 prediction: 19.60142261817921, error: 0.3985773818207896\n",
            "iter:8 prediction: 19.799620403979297, error: 0.20037959602070288\n",
            "iter:9 prediction: 19.899743373114568, error: 0.10025662688543235\n",
            "iter:10 prediction: 19.949959323892436, error: 0.0500406761075638\n",
            "iter:11 prediction: 19.975053630997458, error: 0.024946369002542212\n",
            "iter:12 prediction: 19.987571210816107, error: 0.01242878918389323\n",
            "iter:13 prediction: 19.99380959172487, error: 0.006190408275131176\n",
            "iter:14 prediction: 19.99691720617126, error: 0.0030827938287387724\n",
            "iter:15 prediction: 19.998464898308637, error: 0.0015351016913633941\n",
            "iter:16 prediction: 19.99923561241536, error: 0.0007643875846383708\n",
            "iter:17 prediction: 19.999619388387714, error: 0.00038061161228597484\n",
            "iter:18 prediction: 19.99981048376135, error: 0.00018951623864893463\n",
            "iter:19 prediction: 19.99990563546096, error: 9.436453904143605e-05\n",
            "iter:20 prediction: 19.999953013810966, error: 4.698618903375973e-05\n",
            "iter:21 prediction: 19.999976604564996, error: 2.3395435004402998e-05\n",
            "iter:22 prediction: 19.999988350915896, error: 1.1649084104448093e-05\n",
            "iter:23 prediction: 19.99999419967519, error: 5.800324810678603e-06\n",
            "iter:24 prediction: 19.999997111896274, error: 2.8881037259509412e-06\n"
          ],
          "name": "stdout"
        }
      ]
    },
    {
      "cell_type": "code",
      "metadata": {
        "id": "KWUnbwkORATs",
        "colab_type": "code",
        "colab": {
          "base_uri": "https://localhost:8080/",
          "height": 36
        },
        "outputId": "a54e863b-bcdf-456d-dbce-e7099c7ee603"
      },
      "source": [
        "predict(model['W1'], model['W2'], x)"
      ],
      "execution_count": 46,
      "outputs": [
        {
          "output_type": "execute_result",
          "data": {
            "text/plain": [
              "19.999997111896274"
            ]
          },
          "metadata": {
            "tags": []
          },
          "execution_count": 46
        }
      ]
    },
    {
      "cell_type": "code",
      "metadata": {
        "id": "PW2We-NiSQPr",
        "colab_type": "code",
        "colab": {}
      },
      "source": [
        ""
      ],
      "execution_count": 0,
      "outputs": []
    }
  ]
}